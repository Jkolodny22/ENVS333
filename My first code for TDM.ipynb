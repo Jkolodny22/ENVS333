{
 "cells": [
  {
   "cell_type": "code",
   "execution_count": 58,
   "id": "a31cb383",
   "metadata": {
    "scrolled": true
   },
   "outputs": [
    {
     "name": "stdout",
     "output_type": "stream",
     "text": [
      "42.218469444444445\n",
      "-71.11789722222223\n"
     ]
    }
   ],
   "source": [
    "latdirection=1\n",
    "latdegree=42\n",
    "latminute=13\n",
    "latsecond=6.49\n",
    "\n",
    "latitudeN = latdirection * (latdegree + (latminute + latsecond / 60.) / 60.)\n",
    "print(latitudeN)\n",
    "\n",
    "latdirection=-1\n",
    "latdegree=71\n",
    "latminute=7\n",
    "latsecond=4.43\n",
    "\n",
    "latitudew = latdirection * (latdegree + (latminute + latsecond / 60.) / 60.)\n",
    "print(latitudew)\n",
    "\n",
    "\n",
    "\n"
   ]
  },
  {
   "cell_type": "code",
   "execution_count": null,
   "id": "e8788155",
   "metadata": {},
   "outputs": [],
   "source": []
  },
  {
   "cell_type": "code",
   "execution_count": null,
   "id": "f193c6d1",
   "metadata": {},
   "outputs": [],
   "source": []
  }
 ],
 "metadata": {
  "kernelspec": {
   "display_name": "Python 3 (ipykernel)",
   "language": "python",
   "name": "python3"
  },
  "language_info": {
   "codemirror_mode": {
    "name": "ipython",
    "version": 3
   },
   "file_extension": ".py",
   "mimetype": "text/x-python",
   "name": "python",
   "nbconvert_exporter": "python",
   "pygments_lexer": "ipython3",
   "version": "3.11.4"
  }
 },
 "nbformat": 4,
 "nbformat_minor": 5
}
